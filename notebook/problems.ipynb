{
    "cells": [
        {
            "cell_type": "markdown",
            "id": "ac622319",
            "metadata": {},
            "source": [
                "# Descriptive statistics problems"
            ]
        },
        {
            "cell_type": "markdown",
            "id": "aa8993e4",
            "metadata": {},
            "source": [
                "### Exercise 1"
            ]
        },
        {
            "cell_type": "markdown",
            "id": "5e0ab0d5",
            "metadata": {},
            "source": [
                "We will use Numpy to obtain information to describe statistically.\n",
                "\n",
                "- Generate an array of 100 elements following a normal distribution.\n",
                "- Generate an array of 100 elements following a chi-square distribution with 3 degrees of freedom.\n",
                "- Calculate the main metrics and statistical measures that best describe the two vectors."
            ]
        },
        {
            "cell_type": "code",
            "execution_count": 23,
            "id": "34720ab6",
            "metadata": {},
            "outputs": [
                {
                    "name": "stdout",
                    "output_type": "stream",
                    "text": [
                        "Normal array metrics:\n",
                        "Mean: -0.10384651739409384\n",
                        "Median: -0.1269562917797126\n",
                        "Standard deviation: 0.9036161766446296\n",
                        "Minimum value: -2.6197451040897444\n",
                        "Maximum value: 1.8522781845089378\n",
                        "\n",
                        "Chi-square array metrics:\n",
                        "Mean: 2.9380795335328225\n",
                        "Median: 2.4636148965577283\n",
                        "Standard deviation: 2.4118463757907924\n",
                        "Minimum value: 0.1324733758268489\n",
                        "Maximum value: 12.724562650789606\n"
                    ]
                }
            ],
            "source": [
                "import numpy as np\n",
                "\n",
                "np.random.seed(42)\n",
                "\n",
                "# Generate an array of 100 elements following a normal distribution\n",
                "normal_array = np.random.normal(size=100)\n",
                "\n",
                "# Generate an array of 100 elements following a chi-square distribution with 3 degrees of freedom\n",
                "chi_square_array = np.random.chisquare(3, 100)\n",
                "\n",
                "\n",
                "# Calculate the main metrics and statistical measures for the normal array\n",
                "normal_mean = np.mean(normal_array)\n",
                "normal_median = np.median(normal_array)\n",
                "normal_std = np.std(normal_array)\n",
                "normal_min = np.min(normal_array)\n",
                "normal_max = np.max(normal_array)\n",
                "\n",
                "# Calculate the main metrics and statistical measures for the chi-square array\n",
                "chi_square_mean = np.mean(chi_square_array)\n",
                "chi_square_median = np.median(chi_square_array)\n",
                "chi_square_std = np.std(chi_square_array)\n",
                "chi_square_min = np.min(chi_square_array)\n",
                "chi_square_max = np.max(chi_square_array)\n",
                "\n",
                "# Print the results\n",
                "print(\"Normal array metrics:\")\n",
                "print(f\"Mean: {normal_mean}\")\n",
                "print(f\"Median: {normal_median}\")\n",
                "print(f\"Standard deviation: {normal_std}\")\n",
                "print(f\"Minimum value: {normal_min}\")\n",
                "print(f\"Maximum value: {normal_max}\")\n",
                "\n",
                "print(\"\\nChi-square array metrics:\")\n",
                "print(f\"Mean: {chi_square_mean}\")\n",
                "print(f\"Median: {chi_square_median}\")\n",
                "print(f\"Standard deviation: {chi_square_std}\")\n",
                "print(f\"Minimum value: {chi_square_min}\")\n",
                "print(f\"Maximum value: {chi_square_max}\")\n",
                "\n",
                "\n"
            ]
        },
        {
            "cell_type": "code",
            "execution_count": 24,
            "id": "c34adbe1",
            "metadata": {},
            "outputs": [
                {
                    "name": "stdout",
                    "output_type": "stream",
                    "text": [
                        "Mode: 0.4967141530112327\n",
                        "Range: 4.472023288598682\n",
                        "Variance: 0.8165221946938584\n",
                        "Chi Mode: 0.4168513022813494\n",
                        "Chi Range: 12.592089274962756\n",
                        "Chi Variance: 5.817002940415181\n"
                    ]
                }
            ],
            "source": [
                "import statistics as stats\n",
                "\n",
                "\n",
                "# Calculate the main metrics and statistical measures for the normal array\n",
                "normal_mode = stats.mode(normal_array)  # Calculate mode\n",
                "normal_range = normal_max - normal_min  # Calculate range\n",
                "normal_variance = np.var(normal_array)  # Calculate variance\n",
                "\n",
                "#Calculate the main metrics and statistical measures for the chi-square array\n",
                "\n",
                "chi_square_mode = stats.mode(chi_square_array)  # Calculate mode\n",
                "chi_square_range = chi_square_max - chi_square_min  # Calculate range\n",
                "chi_square_variance = np.var(chi_square_array)  # Calculate variance\n",
                "\n",
                "print(f\"Mode: {normal_mode}\")\n",
                "print(f\"Range: {normal_range}\")\n",
                "print(f\"Variance: {normal_variance}\")\n",
                "\n",
                "print(f\"Chi Mode: {chi_square_mode}\")\n",
                "print(f\"Chi Range: {chi_square_range}\")\n",
                "print(f\"Chi Variance: {chi_square_variance}\")"
            ]
        },
        {
            "cell_type": "code",
            "execution_count": 29,
            "id": "87359b7c",
            "metadata": {},
            "outputs": [
                {
                    "name": "stdout",
                    "output_type": "stream",
                    "text": [
                        "Interquartile distance of normal distribution: [1.00685772]\n",
                        "chi-square distribution: [2.89091153]\n"
                    ]
                }
            ],
            "source": [
                "#interquartile distance\n",
                "import pandas as pd\n",
                "\n",
                "def iqd(pdistri):\n",
                "    df = pd.DataFrame(pdistri)\n",
                "    c = df.describe().values\n",
                "    return c[6] - c[4]\n",
                "\n",
                "\n",
                "print(\"Interquartile distance of normal distribution:\" , iqd(normal_array) )\n",
                "print(\"Chi-square distribution:\" , iqd(chi_square_array) )"
            ]
        },
        {
            "cell_type": "code",
            "execution_count": null,
            "id": "1b5c89c3",
            "metadata": {},
            "outputs": [
                {
                    "name": "stdout",
                    "output_type": "stream",
                    "text": [
                        "Skewness for Normal array: -0.17526772024433726\n",
                        "Skewness for Chi-square array: 1.6683703423622345\n"
                    ]
                }
            ],
            "source": [
                "from scipy.stats import skew\n",
                "\n",
                "\n",
                "\n",
                "# Calculate the skewness for the normal and chi-square arrays\n",
                "normal_skewness = skew(normal_array)\n",
                "chi_square_skewness = skew(chi_square_array)\n",
                "\n",
                "# Print the skewness results\n",
                "print(\"Skewness for Normal array:\", normal_skewness)\n",
                "print(\"Skewness for Chi-square array:\", chi_square_skewness)\n"
            ]
        },
        {
            "cell_type": "code",
            "execution_count": null,
            "id": "71c0188b",
            "metadata": {},
            "outputs": [
                {
                    "name": "stdout",
                    "output_type": "stream",
                    "text": [
                        "Kurtosis for Normal array: -0.1554047077420817\n",
                        "Kurtosis for Chi-square array: 3.620577909892315\n"
                    ]
                }
            ],
            "source": [
                "from scipy.stats import kurtosis\n",
                "\n",
                "# Calculate the kurtosis for the normal and chi-square arrays\n",
                "normal_kurtosis = kurtosis(normal_array)\n",
                "chi_square_kurtosis = kurtosis(chi_square_array)\n",
                "\n",
                "# Print the kurtosis results\n",
                "print(\"Kurtosis for Normal array:\", normal_kurtosis)\n",
                "print(\"Kurtosis for Chi-square array:\", chi_square_kurtosis)\n"
            ]
        },
        {
            "cell_type": "markdown",
            "id": "46c70c3d",
            "metadata": {},
            "source": [
                "### Exercise 2\n",
                "\n",
                "Write a Python program to calculate the standard deviation of the following data:\n",
                "\n",
                "```py\n",
                "data = [4, 2, 5, 8, 6]\n",
                "```"
            ]
        },
        {
            "cell_type": "code",
            "execution_count": null,
            "id": "d590308e",
            "metadata": {},
            "outputs": [
                {
                    "name": "stdout",
                    "output_type": "stream",
                    "text": [
                        "Standard Deviation: 2.23606797749979\n"
                    ]
                }
            ],
            "source": [
                "# TODO\n",
                "\n",
                "import statistics\n",
                "\n",
                "data = [4, 2, 5, 8, 6]\n",
                "std_dev = statistics.stdev(data)\n",
                "\n",
                "print(\"Standard Deviation:\", std_dev)\n",
                "\n"
            ]
        }
    ],
    "metadata": {
        "interpreter": {
            "hash": "9248718ffe6ce6938b217e69dbcc175ea21f4c6b28a317e96c05334edae734bb"
        },
        "kernelspec": {
            "display_name": "Python 3.9.12 ('ML-BOOTCAMP')",
            "language": "python",
            "name": "python3"
        },
        "language_info": {
            "codemirror_mode": {
                "name": "ipython",
                "version": 3
            },
            "file_extension": ".py",
            "mimetype": "text/x-python",
            "name": "python",
            "nbconvert_exporter": "python",
            "pygments_lexer": "ipython3",
            "version": "3.11.4"
        }
    },
    "nbformat": 4,
    "nbformat_minor": 5
}
